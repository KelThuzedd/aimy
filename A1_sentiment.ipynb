{
 "cells": [
  {
   "cell_type": "code",
   "execution_count": null,
   "id": "initial_id",
   "metadata": {
    "collapsed": true
   },
   "outputs": [],
   "source": [
    "import pandas as pd\n",
    "import torch\n",
    "from transformers import BertTokenizer, BertForSequenceClassification\n",
    "from transformers import pipeline\n",
    "\n",
    "# Загрузка данных из CSV-файла\n",
    "telegram_messages = pd.read_csv('telegram_messages.csv')\n",
    "\n",
    "# Преобразование столбца 'date' в формат datetime\n",
    "telegram_messages['date'] = pd.to_datetime(telegram_messages['date'])\n",
    "\n",
    "# Загрузка модели и токенизатора\n",
    "model_name = \"nlptown/bert-base-multilingual-uncased-sentiment\"\n",
    "tokenizer = BertTokenizer.from_pretrained(model_name)\n",
    "model = BertForSequenceClassification.from_pretrained(model_name)\n",
    "\n",
    "# Создание пайплайна для анализа тональности\n",
    "sentiment_analysis = pipeline(\"sentiment-analysis\", model=model, tokenizer=tokenizer)\n",
    "\n",
    "# Функция для обрезки текста до 512 токенов\n",
    "def truncate_text(text, tokenizer, max_length=500):\n",
    "    tokens = tokenizer.tokenize(text)\n",
    "    if len(tokens) > max_length:\n",
    "        tokens = tokens[:max_length]\n",
    "    return tokenizer.convert_tokens_to_string(tokens)\n",
    "\n",
    "# Функция для получения тональности\n",
    "def get_bert_sentiment(text):\n",
    "    truncated_text = truncate_text(text, tokenizer)\n",
    "    result = sentiment_analysis(truncated_text)[0]\n",
    "    return result['label']\n",
    "\n",
    "# Применение анализа тональности к сообщениям\n",
    "telegram_messages['sentiment'] = telegram_messages['message'].apply(lambda x: get_bert_sentiment(str(x)) if pd.notna(x) else 'neutral')\n",
    "\n",
    "# Подсчет количества сообщений с каждой тональностью\n",
    "sentiment_counts = telegram_messages['sentiment'].value_counts()\n",
    "print(f\"Сентимент анализа:\\n{sentiment_counts}\")"
   ]
  },
  {
   "cell_type": "code",
   "outputs": [],
   "source": [
    "telegram_messages.to_csv('data/telegram_mes sages_sentiment.csv', index=False)"
   ],
   "metadata": {
    "collapsed": false
   },
   "id": "f6cdd1c229157a3c"
  }
 ],
 "metadata": {
  "kernelspec": {
   "display_name": "Python 3",
   "language": "python",
   "name": "python3"
  },
  "language_info": {
   "codemirror_mode": {
    "name": "ipython",
    "version": 2
   },
   "file_extension": ".py",
   "mimetype": "text/x-python",
   "name": "python",
   "nbconvert_exporter": "python",
   "pygments_lexer": "ipython2",
   "version": "2.7.6"
  }
 },
 "nbformat": 4,
 "nbformat_minor": 5
}
